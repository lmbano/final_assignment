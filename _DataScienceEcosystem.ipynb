{
 "cells": [
  {
   "cell_type": "markdown",
   "id": "2d9c4c24-d897-4bb9-972c-fa4286377087",
   "metadata": {},
   "source": [
    "# Data Science Tools and Ecosystem"
   ]
  },
  {
   "cell_type": "markdown",
   "id": "01d945bf-d163-43b3-a1ee-42d02dcf075e",
   "metadata": {},
   "source": [
    "In this notebook, Data Science Tools and Ecosystem are summarized."
   ]
  },
  {
   "cell_type": "markdown",
   "id": "d5115c3a-1a9d-4e9b-9df0-5873967784a1",
   "metadata": {},
   "source": [
    "__Objectives:__\n",
    "- List popular languages for Data Science\n",
    "- Some of the commonly used libraries used by Data Scientists\n",
    "- examples of evaluating arithmetic expressions in Python\n"
   ]
  },
  {
   "cell_type": "markdown",
   "id": "5d51d965-43ca-4cca-8925-0fa87043a206",
   "metadata": {},
   "source": [
    "##### Some of the popular languages that Data Scientists use are:\n",
    "1. Python\n",
    "2. R\n",
    "3. Scala"
   ]
  },
  {
   "cell_type": "markdown",
   "id": "d573a475-b85f-4de2-a8b1-704078ff45dd",
   "metadata": {},
   "source": [
    "##### Some of the commonly used libraries used by Data Scientists include:\n",
    "1. Pandas\n",
    "2. Matplotlib\n",
    "3. tensoflow"
   ]
  },
  {
   "cell_type": "markdown",
   "id": "7b262d4d-81a6-4400-b49c-1becd46c080f",
   "metadata": {},
   "source": [
    "|Data Science Tools     | \n",
    "| ------------- | \n",
    "| Jupyter Lab | \n",
    "| Git Lab| \n",
    "| VS code|"
   ]
  },
  {
   "cell_type": "markdown",
   "id": "8e860a99-d5bd-49f0-9703-4bfbad69304b",
   "metadata": {},
   "source": [
    "### Below are a few examples of evaluating arithmetic expressions in Python\n",
    "\n",
    "- 2+3\n",
    "- 10/2\n",
    "- 2*6\n",
    "- 7-3"
   ]
  },
  {
   "cell_type": "code",
   "execution_count": 1,
   "id": "45950623-9d56-43f8-a56f-751fee817b7a",
   "metadata": {
    "tags": []
   },
   "outputs": [
    {
     "data": {
      "text/plain": [
       "17"
      ]
     },
     "execution_count": 1,
     "metadata": {},
     "output_type": "execute_result"
    }
   ],
   "source": [
    "# This a simple arithmetic expression to mutiply then add integers\n",
    "(3*4)+5"
   ]
  },
  {
   "cell_type": "code",
   "execution_count": 3,
   "id": "86b6c282-5c05-4d4d-bfc5-fb1ee1794165",
   "metadata": {
    "tags": []
   },
   "outputs": [
    {
     "data": {
      "text/plain": [
       "3.3333333333333335"
      ]
     },
     "execution_count": 3,
     "metadata": {},
     "output_type": "execute_result"
    }
   ],
   "source": [
    "# This will convert 200 minutes to hours by diving by 60\n",
    "hours = 200 / 60\n",
    "hours"
   ]
  },
  {
   "cell_type": "markdown",
   "id": "4465c322-8467-4a00-a113-20ed50e5b2a4",
   "metadata": {},
   "source": [
    "## Author\n",
    "Leon Mbano"
   ]
  },
  {
   "cell_type": "code",
   "execution_count": null,
   "id": "3cf14f8b-e78a-41da-bb9c-367d38943099",
   "metadata": {},
   "outputs": [],
   "source": []
  }
 ],
 "metadata": {
  "kernelspec": {
   "display_name": "Python",
   "language": "python",
   "name": "conda-env-python-py"
  },
  "language_info": {
   "codemirror_mode": {
    "name": "ipython",
    "version": 3
   },
   "file_extension": ".py",
   "mimetype": "text/x-python",
   "name": "python",
   "nbconvert_exporter": "python",
   "pygments_lexer": "ipython3",
   "version": "3.7.12"
  }
 },
 "nbformat": 4,
 "nbformat_minor": 5
}
